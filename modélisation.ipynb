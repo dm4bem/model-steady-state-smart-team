{
 "cells": [
  {
   "attachments": {},
   "cell_type": "markdown",
   "metadata": {},
   "source": []
  },
  {
   "cell_type": "code",
   "execution_count": null,
   "metadata": {},
   "outputs": [],
   "source": [
    "import numpy as np\n",
    "import pandas as pd\n",
    "import matplotlib.pyplot as plt\n",
    "\n",
    "import dm4bem\n",
    "\n",
    "l = 3               # m length of the cubic room\n",
    "Sg = l**2           # m² surface area of the glass wall\n",
    "Sc = Si = 5 * Sg    # m² surface area of concrete & insulation of the 5 walls"
   ]
  },
  {
   "attachments": {},
   "cell_type": "markdown",
   "metadata": {},
   "source": [
    "Première partie définition des variables et des paramètres physiques. On garde les mêmes valeurs que utilisés en cours"
   ]
  },
  {
   "cell_type": "code",
   "execution_count": null,
   "metadata": {},
   "outputs": [],
   "source": [
    "air = {'Density': 1.2,                      # kg/m³\n",
    "       'Specific heat': 1000}               # J/(kg·K)\n",
    "\n",
    "concrete = {'Conductivity': 1.400,          # W/(m·K)\n",
    "            'Density': 2300.0,              # kg/m³\n",
    "            'Specific heat': 880,           # J/(kg⋅K)\n",
    "            'Width': 0.2,                   # m\n",
    "            'Surface': 5 * l**2}            # m²\n",
    "\n",
    "insulation = {'Conductivity': 0.027,        # W/(m·K)\n",
    "              'Density': 55.0,              # kg/m³\n",
    "              'Specific heat': 1210,        # J/(kg⋅K)\n",
    "              'Width': 0.08,                # m\n",
    "              'Surface': 5 * l**2}          # m²\n",
    "\n",
    "glass = {'Conductivity': 1.4,               # W/(m·K)\n",
    "         'Density': 2500,                   # kg/m³\n",
    "         'Specific heat': 1210,             # J/(kg⋅K)\n",
    "         'Width': 0.04,                     # m\n",
    "         'Surface': l**2}                   # m²\n",
    "\n",
    "wall = pd.DataFrame.from_dict({'Layer_out': concrete,\n",
    "                               'Layer_in': insulation,\n",
    "                               'Glass': glass},\n",
    "                              orient='index')\n",
    "\n",
    "# radiative properties\n",
    "ε_wLW = 0.85    # long wave emmisivity: wall surface (concrete)\n",
    "ε_gLW = 0.90    # long wave emmisivity: glass pyrex\n",
    "α_wSW = 0.25    # short wave absortivity: white smooth surface\n",
    "α_gSW = 0.38    # short wave absortivity: reflective blue glass\n",
    "τ_gSW = 0.30    # short wave transmitance: reflective blue glass\n",
    "\n",
    "σ = 5.67e-8     # W/(m²⋅K⁴) Stefan-Bolzmann constant\n",
    "h = pd.DataFrame([{'in': 8., 'out': 25}], index=['h'])  # W/(m²⋅K)"
   ]
  }
 ],
 "metadata": {
  "language_info": {
   "name": "python"
  },
  "orig_nbformat": 4
 },
 "nbformat": 4,
 "nbformat_minor": 2
}
