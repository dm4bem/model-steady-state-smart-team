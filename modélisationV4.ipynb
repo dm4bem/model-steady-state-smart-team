{
 "cells": [
  {
   "attachments": {},
   "cell_type": "markdown",
   "metadata": {},
   "source": [
    "Description of the building\n",
    "notes:\n",
    "Pour les surfaces des murs, les premiers calculs ont été fait en considérant que les longueures correspondent aux longueurs exterieurs.  "
   ]
  },
  {
   "cell_type": "code",
   "execution_count": 73,
   "metadata": {},
   "outputs": [
    {
     "data": {
      "text/plain": [
       "50"
      ]
     },
     "execution_count": 73,
     "metadata": {},
     "output_type": "execute_result"
    }
   ],
   "source": [
    "import numpy as np\n",
    "import pandas as pd\n",
    "import matplotlib.pyplot as plt\n",
    "\n",
    "\n",
    "H = 3               # m hauteur des murs\n",
    "L1= 10              # m longueur horizontale\n",
    "L2= 8               # m largeur  du haut\n",
    "L3= 6               # m largeur du bas\n",
    "S1 = L1*H          # m² surface 1 intermédiaire\n",
    "S2 = L2*H           # m² surface 2 intermédiaire\n",
    "S3 = L3*H           # m² surface 3 intermédiaire\n",
    "Smur1 = 2*S1+2*S3   # m² surface du mur du bas\n",
    "Svitre = 4          # m² surface d'une vitre\n",
    "Smur2= S1+S2 -Svitre        # m² surface d'un des murs du haut ou on enlèvre la surface des vitres\n",
    "Smur3= S1             # m² surface du mur intérieur horizontale\n",
    "Smur4= S2             # m² surface du mur intérieur verticale\n"
   ]
  },
  {
   "attachments": {},
   "cell_type": "markdown",
   "metadata": {},
   "source": [
    "Definition of thermo-physicals properties (we have kept the same value as the course) "
   ]
  },
  {
   "cell_type": "code",
   "execution_count": 79,
   "metadata": {},
   "outputs": [
    {
     "data": {
      "text/html": [
       "<div>\n",
       "<style scoped>\n",
       "    .dataframe tbody tr th:only-of-type {\n",
       "        vertical-align: middle;\n",
       "    }\n",
       "\n",
       "    .dataframe tbody tr th {\n",
       "        vertical-align: top;\n",
       "    }\n",
       "\n",
       "    .dataframe thead th {\n",
       "        text-align: right;\n",
       "    }\n",
       "</style>\n",
       "<table border=\"1\" class=\"dataframe\">\n",
       "  <thead>\n",
       "    <tr style=\"text-align: right;\">\n",
       "      <th></th>\n",
       "      <th>in</th>\n",
       "      <th>out</th>\n",
       "    </tr>\n",
       "  </thead>\n",
       "  <tbody>\n",
       "    <tr>\n",
       "      <th>h</th>\n",
       "      <td>8.0</td>\n",
       "      <td>25</td>\n",
       "    </tr>\n",
       "  </tbody>\n",
       "</table>\n",
       "</div>"
      ],
      "text/plain": [
       "    in  out\n",
       "h  8.0   25"
      ]
     },
     "execution_count": 79,
     "metadata": {},
     "output_type": "execute_result"
    }
   ],
   "source": [
    "air = {'Density': 1.2,                      # kg/m³\n",
    "       'Specific heat': 1000}               # J/(kg·K)\n",
    "\n",
    "concrete = {'Conductivity': 1.400,          # W/(m·K)\n",
    "            'Density': 2300.0,              # kg/m³\n",
    "            'Specific heat': 880,           # J/(kg⋅K)\n",
    "            'Width': 0.2}            # m²\n",
    "\n",
    "insulation = {'Conductivity': 0.027,        # W/(m·K)\n",
    "              'Density': 55.0,              # kg/m³\n",
    "              'Specific heat': 1210,        # J/(kg⋅K)\n",
    "              'Width': 0.08}          # m²\n",
    "\n",
    "glass = {'Conductivity': 1.4,               # W/(m·K)\n",
    "         'Density': 2500,                   # kg/m³\n",
    "         'Specific heat': 1210,             # J/(kg⋅K)\n",
    "         'Width': 0.04}                   # m²\n",
    "\n",
    "layer = pd.DataFrame.from_dict({'Layer_out': concrete,\n",
    "                               'Layer_in': insulation,\n",
    "                               'Glass': glass},\n",
    "                              orient='index')\n",
    "\n",
    "# radiative properties\n",
    "ε_wLW = 0.85    # long wave emmisivity: wall surface (concrete)\n",
    "ε_gLW = 0.90    # long wave emmisivity: glass pyrex\n",
    "α_wSW = 0.25    # short wave absortivity: white smooth surface\n",
    "α_gSW = 0.38    # short wave absortivity: reflective blue glass\n",
    "τ_gSW = 0.30    # short wave transmitance: reflective blue glass\n",
    "\n",
    "σ = 5.67e-8     # W/(m²⋅K⁴) Stefan-Bolzmann constant\n",
    "h=[8,25]\n",
    "wall_width_interior=insulation['Width']\n",
    "wall_width_exterior=insulation['Width']+concrete['Width']\n",
    "pd.DataFrame([{'in': 8., 'out': 25}], index=['h'])  # W/(m²⋅K)"
   ]
  },
  {
   "attachments": {},
   "cell_type": "markdown",
   "metadata": {},
   "source": [
    "Computation of thermal conductance of conduction"
   ]
  },
  {
   "cell_type": "code",
   "execution_count": 80,
   "metadata": {},
   "outputs": [
    {
     "data": {
      "text/html": [
       "<div>\n",
       "<style scoped>\n",
       "    .dataframe tbody tr th:only-of-type {\n",
       "        vertical-align: middle;\n",
       "    }\n",
       "\n",
       "    .dataframe tbody tr th {\n",
       "        vertical-align: top;\n",
       "    }\n",
       "\n",
       "    .dataframe thead th {\n",
       "        text-align: right;\n",
       "    }\n",
       "</style>\n",
       "<table border=\"1\" class=\"dataframe\">\n",
       "  <thead>\n",
       "    <tr style=\"text-align: right;\">\n",
       "      <th></th>\n",
       "      <th>Conduction</th>\n",
       "    </tr>\n",
       "  </thead>\n",
       "  <tbody>\n",
       "    <tr>\n",
       "      <th>mur bas béton</th>\n",
       "      <td>672.000</td>\n",
       "    </tr>\n",
       "    <tr>\n",
       "      <th>mur bas isolant</th>\n",
       "      <td>32.400</td>\n",
       "    </tr>\n",
       "    <tr>\n",
       "      <th>mur haut béton</th>\n",
       "      <td>350.000</td>\n",
       "    </tr>\n",
       "    <tr>\n",
       "      <th>mur haut isolant</th>\n",
       "      <td>16.875</td>\n",
       "    </tr>\n",
       "    <tr>\n",
       "      <th>mur intérieur horizontal</th>\n",
       "      <td>210.000</td>\n",
       "    </tr>\n",
       "    <tr>\n",
       "      <th>mur intérieur vertical</th>\n",
       "      <td>168.000</td>\n",
       "    </tr>\n",
       "    <tr>\n",
       "      <th>vitre</th>\n",
       "      <td>140.000</td>\n",
       "    </tr>\n",
       "  </tbody>\n",
       "</table>\n",
       "</div>"
      ],
      "text/plain": [
       "                          Conduction\n",
       "mur bas béton                672.000\n",
       "mur bas isolant               32.400\n",
       "mur haut béton               350.000\n",
       "mur haut isolant              16.875\n",
       "mur intérieur horizontal     210.000\n",
       "mur intérieur vertical       168.000\n",
       "vitre                        140.000"
      ]
     },
     "execution_count": 80,
     "metadata": {},
     "output_type": "execute_result"
    }
   ],
   "source": [
    "G_layer = layer['Conductivity'] / layer['Width'] #conductance par m²\n",
    "pd.DataFrame(G_layer, columns=['Conductance'])\n",
    "G_cd={'vitre':G_layer[2]*Svitre,\n",
    "        'mur bas béton':Smur1*G_layer[0],\n",
    "        'mur bas isolant':Smur1*G_layer[1],\n",
    "        'mur haut isolant':Smur2*G_layer[1],\n",
    "        'mur haut béton':Smur2*G_layer[0],\n",
    "        'mur intérieur horizontal':Smur3*G_layer[0],\n",
    "        'mur intérieur vertical':Smur4*G_layer[0]\n",
    "}\n",
    "pd.DataFrame.from_dict({'Conduction':G_cd})\n",
    "\n"
   ]
  },
  {
   "attachments": {},
   "cell_type": "markdown",
   "metadata": {},
   "source": [
    "Computation of thermal conductance of convection"
   ]
  },
  {
   "cell_type": "code",
   "execution_count": 81,
   "metadata": {},
   "outputs": [
    {
     "data": {
      "text/html": [
       "<div>\n",
       "<style scoped>\n",
       "    .dataframe tbody tr th:only-of-type {\n",
       "        vertical-align: middle;\n",
       "    }\n",
       "\n",
       "    .dataframe tbody tr th {\n",
       "        vertical-align: top;\n",
       "    }\n",
       "\n",
       "    .dataframe thead th {\n",
       "        text-align: right;\n",
       "    }\n",
       "</style>\n",
       "<table border=\"1\" class=\"dataframe\">\n",
       "  <thead>\n",
       "    <tr style=\"text-align: right;\">\n",
       "      <th></th>\n",
       "      <th>Conduction</th>\n",
       "    </tr>\n",
       "  </thead>\n",
       "  <tbody>\n",
       "    <tr>\n",
       "      <th>mur bas exterieur</th>\n",
       "      <td>2400</td>\n",
       "    </tr>\n",
       "    <tr>\n",
       "      <th>mur bas intérieur</th>\n",
       "      <td>768</td>\n",
       "    </tr>\n",
       "    <tr>\n",
       "      <th>mur haut exterieur</th>\n",
       "      <td>400</td>\n",
       "    </tr>\n",
       "    <tr>\n",
       "      <th>mur haut interieur</th>\n",
       "      <td>1250</td>\n",
       "    </tr>\n",
       "    <tr>\n",
       "      <th>mur intérieur horizontal</th>\n",
       "      <td>240</td>\n",
       "    </tr>\n",
       "    <tr>\n",
       "      <th>mur intérieur vertical</th>\n",
       "      <td>192</td>\n",
       "    </tr>\n",
       "    <tr>\n",
       "      <th>vitre interieur</th>\n",
       "      <td>100</td>\n",
       "    </tr>\n",
       "  </tbody>\n",
       "</table>\n",
       "</div>"
      ],
      "text/plain": [
       "                          Conduction\n",
       "mur bas exterieur               2400\n",
       "mur bas intérieur                768\n",
       "mur haut exterieur               400\n",
       "mur haut interieur              1250\n",
       "mur intérieur horizontal         240\n",
       "mur intérieur vertical           192\n",
       "vitre interieur                  100"
      ]
     },
     "execution_count": 81,
     "metadata": {},
     "output_type": "execute_result"
    }
   ],
   "source": [
    "G_conv={'vitre interieur':h[0]*Svitre,\n",
    "        'vitre interieur':h[1]*Svitre,\n",
    "        'mur bas intérieur':Smur1*h[0],\n",
    "        'mur bas exterieur':Smur1*h[1],\n",
    "        'mur haut interieur':Smur2*h[1],\n",
    "        'mur haut exterieur':Smur2*h[0],\n",
    "        'mur intérieur horizontal':Smur3*h[0],\n",
    "        'mur intérieur vertical':Smur4*h[0]\n",
    "}\n",
    "pd.DataFrame.from_dict({'Conduction':G_conv})"
   ]
  },
  {
   "attachments": {},
   "cell_type": "markdown",
   "metadata": {},
   "source": [
    "Computation of thermal capacities"
   ]
  },
  {
   "cell_type": "code",
   "execution_count": 84,
   "metadata": {},
   "outputs": [
    {
     "data": {
      "text/html": [
       "<div>\n",
       "<style scoped>\n",
       "    .dataframe tbody tr th:only-of-type {\n",
       "        vertical-align: middle;\n",
       "    }\n",
       "\n",
       "    .dataframe tbody tr th {\n",
       "        vertical-align: top;\n",
       "    }\n",
       "\n",
       "    .dataframe thead th {\n",
       "        text-align: right;\n",
       "    }\n",
       "</style>\n",
       "<table border=\"1\" class=\"dataframe\">\n",
       "  <thead>\n",
       "    <tr style=\"text-align: right;\">\n",
       "      <th></th>\n",
       "      <th>Thermal capacity</th>\n",
       "    </tr>\n",
       "  </thead>\n",
       "  <tbody>\n",
       "    <tr>\n",
       "      <th>mur bas béton</th>\n",
       "      <td>38860800.0</td>\n",
       "    </tr>\n",
       "    <tr>\n",
       "      <th>mur bas isolant</th>\n",
       "      <td>511104.0</td>\n",
       "    </tr>\n",
       "    <tr>\n",
       "      <th>mur haut béton</th>\n",
       "      <td>20240000.0</td>\n",
       "    </tr>\n",
       "    <tr>\n",
       "      <th>mur haut isolant</th>\n",
       "      <td>266200.0</td>\n",
       "    </tr>\n",
       "    <tr>\n",
       "      <th>mur intérieur horizontal</th>\n",
       "      <td>12144000.0</td>\n",
       "    </tr>\n",
       "    <tr>\n",
       "      <th>mur intérieur vertical</th>\n",
       "      <td>9715200.0</td>\n",
       "    </tr>\n",
       "    <tr>\n",
       "      <th>vitre</th>\n",
       "      <td>484000.0</td>\n",
       "    </tr>\n",
       "  </tbody>\n",
       "</table>\n",
       "</div>"
      ],
      "text/plain": [
       "                          Thermal capacity\n",
       "mur bas béton                   38860800.0\n",
       "mur bas isolant                   511104.0\n",
       "mur haut béton                  20240000.0\n",
       "mur haut isolant                  266200.0\n",
       "mur intérieur horizontal        12144000.0\n",
       "mur intérieur vertical           9715200.0\n",
       "vitre                             484000.0"
      ]
     },
     "execution_count": 84,
     "metadata": {},
     "output_type": "execute_result"
    }
   ],
   "source": [
    "C_layer = layer['Density'] * layer['Specific heat']  * layer['Width']\n",
    "pd.DataFrame(C_layer, columns=['Capacity'])\n",
    "C_thermal = {'vitre':C_layer[2]*Svitre,\n",
    "        'mur bas béton':Smur1*C_layer[0],\n",
    "        'mur bas isolant':Smur1*C_layer[1],\n",
    "        'mur haut isolant':Smur2*C_layer[1],\n",
    "        'mur haut béton':Smur2*C_layer[0],\n",
    "        'mur intérieur horizontal':Smur3*C_layer[0],\n",
    "        'mur intérieur vertical':Smur4*C_layer[0]\n",
    "}\n",
    "pd.DataFrame.from_dict({'Thermal capacity':C_thermal})"
   ]
  },
  {
   "attachments": {},
   "cell_type": "markdown",
   "metadata": {},
   "source": [
    "Computation of thermal conductance of advection\n",
    "Hypothesis: windows closed, front bottom door open, lateral doors open, middle top door (closed or open)"
   ]
  },
  {
   "cell_type": "code",
   "execution_count": 83,
   "metadata": {},
   "outputs": [
    {
     "data": {
      "text/html": [
       "<div>\n",
       "<style scoped>\n",
       "    .dataframe tbody tr th:only-of-type {\n",
       "        vertical-align: middle;\n",
       "    }\n",
       "\n",
       "    .dataframe tbody tr th {\n",
       "        vertical-align: top;\n",
       "    }\n",
       "\n",
       "    .dataframe thead th {\n",
       "        text-align: right;\n",
       "    }\n",
       "</style>\n",
       "<table border=\"1\" class=\"dataframe\">\n",
       "  <thead>\n",
       "    <tr style=\"text-align: right;\">\n",
       "      <th></th>\n",
       "      <th>Conduction</th>\n",
       "    </tr>\n",
       "  </thead>\n",
       "  <tbody>\n",
       "    <tr>\n",
       "      <th>Advection bas</th>\n",
       "      <td>75.0384</td>\n",
       "    </tr>\n",
       "    <tr>\n",
       "      <th>Advection entre haut</th>\n",
       "      <td>10.0000</td>\n",
       "    </tr>\n",
       "    <tr>\n",
       "      <th>Advection haut</th>\n",
       "      <td>76.1192</td>\n",
       "    </tr>\n",
       "  </tbody>\n",
       "</table>\n",
       "</div>"
      ],
      "text/plain": [
       "                      Conduction\n",
       "Advection bas            75.0384\n",
       "Advection entre haut     10.0000\n",
       "Advection haut           76.1192"
      ]
     },
     "execution_count": 83,
     "metadata": {},
     "output_type": "execute_result"
    }
   ],
   "source": [
    "Va1 = (L1-wall_width_exterior)*(L2-wall_width_exterior)*H    # m³, volume d'air de la pièce du haut\n",
    "Va2 = (2*L1-wall_width_exterior)*(L2-wall_width_exterior)*H           # m³, volume d'air de la pièce du haut\n",
    "ACH1 = 1        # 1/h, changement d'air pièce du bas\n",
    "ACH2 = 0.5      # 1/h, changement d'air pièce du haut\n",
    "G_adv = {   'Advection bas': air['Density']*air['Specific heat']*ACH1*Va1/3600,\n",
    "            'Advection haut': air['Density']*air['Specific heat']*ACH2*Va2/3600,\n",
    "            'Advection entre haut':10\n",
    "}\n",
    "pd.DataFrame.from_dict({'Conduction':G_adv})"
   ]
  }
 ],
 "metadata": {
  "kernelspec": {
   "display_name": "base",
   "language": "python",
   "name": "python3"
  },
  "language_info": {
   "codemirror_mode": {
    "name": "ipython",
    "version": 3
   },
   "file_extension": ".py",
   "mimetype": "text/x-python",
   "name": "python",
   "nbconvert_exporter": "python",
   "pygments_lexer": "ipython3",
   "version": "3.10.11"
  },
  "orig_nbformat": 4
 },
 "nbformat": 4,
 "nbformat_minor": 2
}
