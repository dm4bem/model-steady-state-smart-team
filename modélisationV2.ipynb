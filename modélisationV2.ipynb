{
 "cells": [
  {
   "attachments": {},
   "cell_type": "markdown",
   "metadata": {},
   "source": [
    "Déscription du batîment \n",
    "notes:\n",
    "Pour les surfaces des murs, les premiers calculs ont été fait sans épaisseur les coins auront un comportement différent à revoir  "
   ]
  },
  {
   "cell_type": "code",
   "execution_count": 26,
   "metadata": {},
   "outputs": [],
   "source": [
    "import numpy as np\n",
    "import pandas as pd\n",
    "import matplotlib.pyplot as plt\n",
    "\n",
    "\n",
    "h = 3               # m hauteur des murs\n",
    "L1= 10              # m longueur premier côté\n",
    "L2= 8               # m longueur deuxième  côté\n",
    "L3= 6               # m longueur coté du fond\n",
    "S1 = L1*h           # m² surface 1 intermédiaire\n",
    "S2 = L2*h           # m² surface 2 intermédiaire\n",
    "S3 = L3*h           # m² surface 3 intermédiaire\n",
    "Smur1 = 2*S1+2*S3   # m² surface du mur du bas\n",
    "Svitre = 4          # m² surface d'une vitre\n",
    "Smur2= S1+S2 -Svitre        # m² surface d'un des murs du haut\n",
    "Smur3= S1             # m² surface du mur intérieur horizontale\n",
    "Smur4= S2             # m² surface du mur intérieur verticale"
   ]
  },
  {
   "attachments": {},
   "cell_type": "markdown",
   "metadata": {},
   "source": [
    "Définition des variables et des paramètres physiques (on garde les mêmes valeurs que utilisés en cours)"
   ]
  },
  {
   "cell_type": "code",
   "execution_count": 27,
   "metadata": {},
   "outputs": [
    {
     "data": {
      "text/html": [
       "<div>\n",
       "<style scoped>\n",
       "    .dataframe tbody tr th:only-of-type {\n",
       "        vertical-align: middle;\n",
       "    }\n",
       "\n",
       "    .dataframe tbody tr th {\n",
       "        vertical-align: top;\n",
       "    }\n",
       "\n",
       "    .dataframe thead th {\n",
       "        text-align: right;\n",
       "    }\n",
       "</style>\n",
       "<table border=\"1\" class=\"dataframe\">\n",
       "  <thead>\n",
       "    <tr style=\"text-align: right;\">\n",
       "      <th></th>\n",
       "      <th>Conductivity</th>\n",
       "      <th>Density</th>\n",
       "      <th>Specific heat</th>\n",
       "      <th>Width</th>\n",
       "    </tr>\n",
       "  </thead>\n",
       "  <tbody>\n",
       "    <tr>\n",
       "      <th>Layer_out</th>\n",
       "      <td>1.400</td>\n",
       "      <td>2300.0</td>\n",
       "      <td>880</td>\n",
       "      <td>0.20</td>\n",
       "    </tr>\n",
       "    <tr>\n",
       "      <th>Layer_in</th>\n",
       "      <td>0.027</td>\n",
       "      <td>55.0</td>\n",
       "      <td>1210</td>\n",
       "      <td>0.08</td>\n",
       "    </tr>\n",
       "    <tr>\n",
       "      <th>Glass</th>\n",
       "      <td>1.400</td>\n",
       "      <td>2500.0</td>\n",
       "      <td>1210</td>\n",
       "      <td>0.04</td>\n",
       "    </tr>\n",
       "  </tbody>\n",
       "</table>\n",
       "</div>"
      ],
      "text/plain": [
       "           Conductivity  Density  Specific heat  Width\n",
       "Layer_out         1.400   2300.0            880   0.20\n",
       "Layer_in          0.027     55.0           1210   0.08\n",
       "Glass             1.400   2500.0           1210   0.04"
      ]
     },
     "execution_count": 27,
     "metadata": {},
     "output_type": "execute_result"
    }
   ],
   "source": [
    "air = {'Density': 1.2,                      # kg/m³\n",
    "       'Specific heat': 1000}               # J/(kg·K)\n",
    "\n",
    "concrete = {'Conductivity': 1.400,          # W/(m·K)\n",
    "            'Density': 2300.0,              # kg/m³\n",
    "            'Specific heat': 880,           # J/(kg⋅K)\n",
    "            'Width': 0.2}            # m²\n",
    "\n",
    "insulation = {'Conductivity': 0.027,        # W/(m·K)\n",
    "              'Density': 55.0,              # kg/m³\n",
    "              'Specific heat': 1210,        # J/(kg⋅K)\n",
    "              'Width': 0.08}          # m²\n",
    "\n",
    "glass = {'Conductivity': 1.4,               # W/(m·K)\n",
    "         'Density': 2500,                   # kg/m³\n",
    "         'Specific heat': 1210,             # J/(kg⋅K)\n",
    "         'Width': 0.04}                   # m²\n",
    "\n",
    "layer = pd.DataFrame.from_dict({'Layer_out': concrete,\n",
    "                               'Layer_in': insulation,\n",
    "                               'Glass': glass},\n",
    "                              orient='index')\n",
    "# radiative properties\n",
    "ε_wLW = 0.85    # long wave emmisivity: wall surface (concrete)\n",
    "ε_gLW = 0.90    # long wave emmisivity: glass pyrex\n",
    "α_wSW = 0.25    # short wave absortivity: white smooth surface\n",
    "α_gSW = 0.38    # short wave absortivity: reflective blue glass\n",
    "τ_gSW = 0.30    # short wave transmitance: reflective blue glass\n",
    "\n",
    "σ = 5.67e-8     # W/(m²⋅K⁴) Stefan-Bolzmann constant\n",
    "h = pd.DataFrame([{'in': 8., 'out': 25}], index=['h'])  # W/(m²⋅K)\n",
    "layer"
   ]
  },
  {
   "attachments": {},
   "cell_type": "markdown",
   "metadata": {},
   "source": [
    "Calcul des conductances"
   ]
  },
  {
   "cell_type": "code",
   "execution_count": 45,
   "metadata": {},
   "outputs": [
    {
     "data": {
      "text/plain": [
       "{'vitre': 140.0,\n",
       " 'mur bas béton': 671.9999999999999,\n",
       " 'mur bas isolant': 32.4,\n",
       " 'mur haut isolant': 16.875,\n",
       " 'mur gaut béton': 349.99999999999994,\n",
       " 'mur intérieur horizontal': 209.99999999999997,\n",
       " 'mur intérieur vertical': 167.99999999999997}"
      ]
     },
     "execution_count": 45,
     "metadata": {},
     "output_type": "execute_result"
    }
   ],
   "source": [
    "G_layer = layer['Conductivity'] / layer['Width'] #conductance par m²\n",
    "pd.DataFrame(G_layer, columns=['Conductance'])\n",
    "G_cd={'vitre':G_layer[2]*Svitre,\n",
    "        'mur bas béton':Smur1*G_layer[0],\n",
    "        'mur bas isolant':Smur1*G_layer[1],\n",
    "        'mur haut isolant':Smur2*G_layer[1],\n",
    "        'mur gaut béton':Smur2*G_layer[0],\n",
    "        'mur intérieur horizontal':Smur3*G_layer[0],\n",
    "        'mur intérieur vertical':Smur4*G_layer[0]\n",
    "}\n",
    "G_cd\n",
    "\n"
   ]
  },
  {
   "attachments": {},
   "cell_type": "markdown",
   "metadata": {},
   "source": []
  }
 ],
 "metadata": {
  "kernelspec": {
   "display_name": "base",
   "language": "python",
   "name": "python3"
  },
  "language_info": {
   "codemirror_mode": {
    "name": "ipython",
    "version": 3
   },
   "file_extension": ".py",
   "mimetype": "text/x-python",
   "name": "python",
   "nbconvert_exporter": "python",
   "pygments_lexer": "ipython3",
   "version": "3.10.11"
  },
  "orig_nbformat": 4
 },
 "nbformat": 4,
 "nbformat_minor": 2
}
