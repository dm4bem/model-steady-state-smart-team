{
 "cells": [
  {
   "cell_type": "code",
   "execution_count": 5,
   "metadata": {},
   "outputs": [],
   "source": [
    "import numpy as np\n",
    "import dm4bem\n",
    "import pandas as pd\n",
    "import matplotlib as plt\n",
    "from modélisationV6 import*\n",
    "#%%\n",
    "#INPUTS\n",
    "\n",
    "C = np.zeros(A.shape[1])\n",
    "C[4]=C_thermal['mur haut béton']\n",
    "C[6]=C_thermal['mur haut isolant']\n",
    "C[11]=C_thermal['mur haut béton']\n",
    "C[13]=C_thermal['mur haut isolant']\n",
    "C[18]=C_thermal['mur intérieur vertical']\n",
    "C[24]=C_thermal['mur intérieur horizontal']\n",
    "C[21]=C_thermal['mur intérieur horizontal']\n",
    "C[29]=C_thermal['mur bas béton']\n",
    "C[27]=C_thermal['mur bas isolant']"
   ]
  },
  {
   "cell_type": "code",
   "execution_count": 6,
   "metadata": {},
   "outputs": [
    {
     "ename": "NameError",
     "evalue": "name 'y' is not defined",
     "output_type": "error",
     "traceback": [
      "\u001b[1;31m---------------------------------------------------------------------------\u001b[0m",
      "\u001b[1;31mNameError\u001b[0m                                 Traceback (most recent call last)",
      "Cell \u001b[1;32mIn[6], line 13\u001b[0m\n\u001b[0;32m     11\u001b[0m bdf \u001b[38;5;241m=\u001b[39m pd\u001b[38;5;241m.\u001b[39mSeries(b, index\u001b[38;5;241m=\u001b[39mq_list)\n\u001b[0;32m     12\u001b[0m fdf \u001b[38;5;241m=\u001b[39m pd\u001b[38;5;241m.\u001b[39mSeries(f, index\u001b[38;5;241m=\u001b[39mtheta_list)\n\u001b[1;32m---> 13\u001b[0m ydf\u001b[38;5;241m=\u001b[39m pd\u001b[38;5;241m.\u001b[39mSeries(\u001b[43my\u001b[49m, index\u001b[38;5;241m=\u001b[39mtheta_list)\n\u001b[0;32m     15\u001b[0m TC \u001b[38;5;241m=\u001b[39m {\u001b[38;5;124m'\u001b[39m\u001b[38;5;124mA\u001b[39m\u001b[38;5;124m'\u001b[39m:Adf, \u001b[38;5;124m'\u001b[39m\u001b[38;5;124mC\u001b[39m\u001b[38;5;124m'\u001b[39m:Cdf, \u001b[38;5;124m'\u001b[39m\u001b[38;5;124mG\u001b[39m\u001b[38;5;124m'\u001b[39m:Gdf, \u001b[38;5;124m'\u001b[39m\u001b[38;5;124mb\u001b[39m\u001b[38;5;124m'\u001b[39m:bdf, \u001b[38;5;124m'\u001b[39m\u001b[38;5;124mf\u001b[39m\u001b[38;5;124m'\u001b[39m:fdf, \u001b[38;5;124m'\u001b[39m\u001b[38;5;124my\u001b[39m\u001b[38;5;124m'\u001b[39m:ydf}\n\u001b[0;32m     16\u001b[0m [As, Bs, Cs, Ds, us] \u001b[38;5;241m=\u001b[39m dm4bem\u001b[38;5;241m.\u001b[39mtc2ss(TC)\n",
      "\u001b[1;31mNameError\u001b[0m: name 'y' is not defined"
     ]
    }
   ],
   "source": [
    "# # State-space\n",
    "# temperature nodes\n",
    "theta_list=[f\"theta_{i}\" for i in range(ntheta)]\n",
    "q_list=[f\"q_{i}\" for i in range(nbranches)]\n",
    "# flow-rate branches\n",
    "\n",
    "#print(help(dm4bem.tc2ss))\n",
    "Adf = pd.DataFrame(A, index=q_list, columns=theta_list)\n",
    "Cdf= pd.Series(C, index=theta_list)\n",
    "Gdf = pd.Series(G, index=q_list)\n",
    "bdf = pd.Series(b, index=q_list)\n",
    "fdf = pd.Series(f, index=theta_list)\n",
    "ydf= pd.Series(y, index=theta_list)\n",
    "\n",
    "TC = {'A':Adf, 'C':Cdf, 'G':Gdf, 'b':bdf, 'f':fdf, 'y':ydf}\n",
    "[As, Bs, Cs, Ds, us] = dm4bem.tc2ss(TC)\n",
    "us"
   ]
  },
  {
   "cell_type": "code",
   "execution_count": 14,
   "metadata": {},
   "outputs": [],
   "source": [
    "Qa=0 # verif si c'est pas nul\n",
    "Qin = 50\n",
    "Qout = 50\n",
    "\n",
    "\n",
    "         # vector of nonzero elements of vector f : [f0, f3, f7, f8, f10, f14, f16, f17, f19, f20, f22, f23, f25, f26, f30, f32]\n",
    "#%%\n",
    "lamda = np.linalg.eig(As)[0] # eigenvalues\n",
    "dtmax = 2*min(-1/lamda)\n",
    "dt = dm4bem.round_time(dtmax)\n",
    "\n",
    "t_settle=4*max(-1/lamda)\n",
    "duration=np.ceil(t_settle/3600)*3600\n",
    "n = int(np.floor(duration / dt))    # number of time steps\n",
    "To=15\n",
    "Ti_sp=19\n",
    "V_To = To * np.ones(n)        # outdoor temperature\n",
    "V_Ti_sp = Ti_sp * np.ones(n)\n",
    "bT = np.array([To, To, To, To, To, To, Ti_sp]) # vector of the nonzero elements of vector b : temperatures for the conductances 0, 1, 7, 35, 37, 39 and 40.\n",
    "\n",
    "fQ = np.array([Qa, Qout, Qin, Qout, Qout, Qin, Qout, Qin, Qin, Qin, Qin, Qin, Qin, Qin, Qout, Qout])\n"
   ]
  },
  {
   "cell_type": "code",
   "execution_count": 15,
   "metadata": {},
   "outputs": [
    {
     "name": "stdout",
     "output_type": "stream",
     "text": [
      "us = q_0         20.0\n",
      "q_1         20.0\n",
      "q_7         20.0\n",
      "q_35        20.0\n",
      "q_37        20.0\n",
      "q_39        20.0\n",
      "q_40        20.0\n",
      "theta_3     50.0\n",
      "theta_7     50.0\n",
      "theta_8     50.0\n",
      "theta_10    50.0\n",
      "theta_14    50.0\n",
      "theta_16    50.0\n",
      "theta_17    50.0\n",
      "theta_19    50.0\n",
      "theta_20    50.0\n",
      "theta_22    50.0\n",
      "theta_23    50.0\n",
      "theta_25    50.0\n",
      "theta_26    50.0\n",
      "theta_30    50.0\n",
      "theta_32    50.0\n",
      "dtype: float64\n"
     ]
    }
   ],
   "source": [
    "uss = np.hstack([bT, fQ])           # input vector for state space\n",
    "print(f'us = {us}')\n"
   ]
  },
  {
   "cell_type": "code",
   "execution_count": 16,
   "metadata": {},
   "outputs": [
    {
     "name": "stderr",
     "output_type": "stream",
     "text": [
      "C:\\Users\\Aymeric\\AppData\\Local\\Temp\\ipykernel_11796\\2420296322.py:6: FutureWarning: 'S' is deprecated and will be removed in a future version, please use 's' instead.\n",
      "  time = pd.date_range(start=\"2000-01-01 00:00:00\",\n"
     ]
    },
    {
     "data": {
      "text/plain": [
       "q_0         20.0\n",
       "q_1         20.0\n",
       "q_7         20.0\n",
       "q_35        20.0\n",
       "q_37        20.0\n",
       "q_39        20.0\n",
       "q_40        20.0\n",
       "theta_3     50.0\n",
       "theta_7     50.0\n",
       "theta_8     50.0\n",
       "theta_10    50.0\n",
       "theta_14    50.0\n",
       "theta_16    50.0\n",
       "theta_17    50.0\n",
       "theta_19    50.0\n",
       "theta_20    50.0\n",
       "theta_22    50.0\n",
       "theta_23    50.0\n",
       "theta_25    50.0\n",
       "theta_26    50.0\n",
       "theta_30    50.0\n",
       "theta_32    50.0\n",
       "dtype: float64"
      ]
     },
     "execution_count": 16,
     "metadata": {},
     "output_type": "execute_result"
    }
   ],
   "source": [
    "# Create input_data_set\n",
    "# ---------------------\n",
    "# time vector\n",
    "n = int(np.floor(duration / dt))    # number of time steps\n",
    "# DateTimeIndex starting at \"00:00:00\" with a time step of dt\n",
    "time = pd.date_range(start=\"2000-01-01 00:00:00\",\n",
    "                           periods=n, freq=f\"{int(dt)}S\")\n",
    "\n",
    "\n",
    "phi0=0\n",
    "\n",
    "\n",
    "\n",
    "\n",
    "\n",
    "f0 = Qa * np.ones(n)       # auxiliary heat gains\n",
    "f3 = Qout * np.ones(n)      # solar radiation absorbed by the outdoor part of the glasses and the walls\n",
    "f7 = Qin * np.ones(n)       # solar radiation absorbed by the outdoor part of the glasses and the walls\n",
    "Φa=Qa=Φi=Φo=0*np.ones(n)\n",
    "data = {'To': To, 'Ti_sp': Ti_sp, 'Φo': Φo, 'Φi': Φi, 'Qa': Qa, 'Φa': Φa}\n",
    "input_data_set = pd.DataFrame(data, index=time)\n",
    "us\n",
    "\n",
    "\n"
   ]
  },
  {
   "cell_type": "code",
   "execution_count": 17,
   "metadata": {},
   "outputs": [
    {
     "ename": "KeyError",
     "evalue": "20.0",
     "output_type": "error",
     "traceback": [
      "\u001b[1;31m---------------------------------------------------------------------------\u001b[0m",
      "\u001b[1;31mKeyError\u001b[0m                                  Traceback (most recent call last)",
      "File \u001b[1;32m~\\AppData\\Local\\Packages\\PythonSoftwareFoundation.Python.3.11_qbz5n2kfra8p0\\LocalCache\\local-packages\\Python311\\site-packages\\pandas\\core\\indexes\\base.py:3805\u001b[0m, in \u001b[0;36mIndex.get_loc\u001b[1;34m(self, key)\u001b[0m\n\u001b[0;32m   3804\u001b[0m \u001b[38;5;28;01mtry\u001b[39;00m:\n\u001b[1;32m-> 3805\u001b[0m     \u001b[38;5;28;01mreturn\u001b[39;00m \u001b[38;5;28;43mself\u001b[39;49m\u001b[38;5;241;43m.\u001b[39;49m\u001b[43m_engine\u001b[49m\u001b[38;5;241;43m.\u001b[39;49m\u001b[43mget_loc\u001b[49m\u001b[43m(\u001b[49m\u001b[43mcasted_key\u001b[49m\u001b[43m)\u001b[49m\n\u001b[0;32m   3806\u001b[0m \u001b[38;5;28;01mexcept\u001b[39;00m \u001b[38;5;167;01mKeyError\u001b[39;00m \u001b[38;5;28;01mas\u001b[39;00m err:\n",
      "File \u001b[1;32mindex.pyx:167\u001b[0m, in \u001b[0;36mpandas._libs.index.IndexEngine.get_loc\u001b[1;34m()\u001b[0m\n",
      "File \u001b[1;32mindex.pyx:196\u001b[0m, in \u001b[0;36mpandas._libs.index.IndexEngine.get_loc\u001b[1;34m()\u001b[0m\n",
      "File \u001b[1;32mpandas\\\\_libs\\\\hashtable_class_helper.pxi:7081\u001b[0m, in \u001b[0;36mpandas._libs.hashtable.PyObjectHashTable.get_item\u001b[1;34m()\u001b[0m\n",
      "File \u001b[1;32mpandas\\\\_libs\\\\hashtable_class_helper.pxi:7089\u001b[0m, in \u001b[0;36mpandas._libs.hashtable.PyObjectHashTable.get_item\u001b[1;34m()\u001b[0m\n",
      "\u001b[1;31mKeyError\u001b[0m: 20.0",
      "\nThe above exception was the direct cause of the following exception:\n",
      "\u001b[1;31mKeyError\u001b[0m                                  Traceback (most recent call last)",
      "Cell \u001b[1;32mIn[17], line 2\u001b[0m\n\u001b[0;32m      1\u001b[0m \u001b[38;5;66;03m# inputs in time from input_data_set\u001b[39;00m\n\u001b[1;32m----> 2\u001b[0m u \u001b[38;5;241m=\u001b[39m \u001b[43mdm4bem\u001b[49m\u001b[38;5;241;43m.\u001b[39;49m\u001b[43minputs_in_time\u001b[49m\u001b[43m(\u001b[49m\u001b[43mus\u001b[49m\u001b[43m,\u001b[49m\u001b[43m \u001b[49m\u001b[43minput_data_set\u001b[49m\u001b[43m)\u001b[49m\n",
      "File \u001b[1;32mc:\\Users\\Aymeric\\Downloads\\dm4bem.py:1519\u001b[0m, in \u001b[0;36minputs_in_time\u001b[1;34m(us, input_data_set)\u001b[0m\n\u001b[0;32m   1403\u001b[0m \u001b[38;5;28;01mdef\u001b[39;00m \u001b[38;5;21minputs_in_time\u001b[39m(us, input_data_set):\n\u001b[0;32m   1404\u001b[0m \u001b[38;5;250m    \u001b[39m\u001b[38;5;124;03m\"\"\"\u001b[39;00m\n\u001b[0;32m   1405\u001b[0m \u001b[38;5;124;03m    Input vectors in time.\u001b[39;00m\n\u001b[0;32m   1406\u001b[0m \n\u001b[1;32m   (...)\u001b[0m\n\u001b[0;32m   1517\u001b[0m \u001b[38;5;124;03m    the sources, e.g., 'To', not of the branches/nodes, e.g., 'c1_q0'.\u001b[39;00m\n\u001b[0;32m   1518\u001b[0m \u001b[38;5;124;03m    \"\"\"\u001b[39;00m\n\u001b[1;32m-> 1519\u001b[0m     u \u001b[38;5;241m=\u001b[39m pd\u001b[38;5;241m.\u001b[39mDataFrame(\u001b[43m{\u001b[49m\u001b[43mcol\u001b[49m\u001b[43m:\u001b[49m\u001b[43m \u001b[49m\u001b[43minput_data_set\u001b[49m\u001b[43m[\u001b[49m\u001b[43mus\u001b[49m\u001b[43m[\u001b[49m\u001b[43mcol\u001b[49m\u001b[43m]\u001b[49m\u001b[43m]\u001b[49m\u001b[43m \u001b[49m\u001b[38;5;28;43;01mfor\u001b[39;49;00m\u001b[43m \u001b[49m\u001b[43mcol\u001b[49m\u001b[43m \u001b[49m\u001b[38;5;129;43;01min\u001b[39;49;00m\u001b[43m \u001b[49m\u001b[43mus\u001b[49m\u001b[38;5;241;43m.\u001b[39;49m\u001b[43mindex\u001b[49m\u001b[43m}\u001b[49m)\n\u001b[0;32m   1520\u001b[0m     \u001b[38;5;28;01mreturn\u001b[39;00m u\n",
      "File \u001b[1;32mc:\\Users\\Aymeric\\Downloads\\dm4bem.py:1519\u001b[0m, in \u001b[0;36m<dictcomp>\u001b[1;34m(.0)\u001b[0m\n\u001b[0;32m   1403\u001b[0m \u001b[38;5;28;01mdef\u001b[39;00m \u001b[38;5;21minputs_in_time\u001b[39m(us, input_data_set):\n\u001b[0;32m   1404\u001b[0m \u001b[38;5;250m    \u001b[39m\u001b[38;5;124;03m\"\"\"\u001b[39;00m\n\u001b[0;32m   1405\u001b[0m \u001b[38;5;124;03m    Input vectors in time.\u001b[39;00m\n\u001b[0;32m   1406\u001b[0m \n\u001b[1;32m   (...)\u001b[0m\n\u001b[0;32m   1517\u001b[0m \u001b[38;5;124;03m    the sources, e.g., 'To', not of the branches/nodes, e.g., 'c1_q0'.\u001b[39;00m\n\u001b[0;32m   1518\u001b[0m \u001b[38;5;124;03m    \"\"\"\u001b[39;00m\n\u001b[1;32m-> 1519\u001b[0m     u \u001b[38;5;241m=\u001b[39m pd\u001b[38;5;241m.\u001b[39mDataFrame({col: \u001b[43minput_data_set\u001b[49m\u001b[43m[\u001b[49m\u001b[43mus\u001b[49m\u001b[43m[\u001b[49m\u001b[43mcol\u001b[49m\u001b[43m]\u001b[49m\u001b[43m]\u001b[49m \u001b[38;5;28;01mfor\u001b[39;00m col \u001b[38;5;129;01min\u001b[39;00m us\u001b[38;5;241m.\u001b[39mindex})\n\u001b[0;32m   1520\u001b[0m     \u001b[38;5;28;01mreturn\u001b[39;00m u\n",
      "File \u001b[1;32m~\\AppData\\Local\\Packages\\PythonSoftwareFoundation.Python.3.11_qbz5n2kfra8p0\\LocalCache\\local-packages\\Python311\\site-packages\\pandas\\core\\frame.py:4102\u001b[0m, in \u001b[0;36mDataFrame.__getitem__\u001b[1;34m(self, key)\u001b[0m\n\u001b[0;32m   4100\u001b[0m \u001b[38;5;28;01mif\u001b[39;00m \u001b[38;5;28mself\u001b[39m\u001b[38;5;241m.\u001b[39mcolumns\u001b[38;5;241m.\u001b[39mnlevels \u001b[38;5;241m>\u001b[39m \u001b[38;5;241m1\u001b[39m:\n\u001b[0;32m   4101\u001b[0m     \u001b[38;5;28;01mreturn\u001b[39;00m \u001b[38;5;28mself\u001b[39m\u001b[38;5;241m.\u001b[39m_getitem_multilevel(key)\n\u001b[1;32m-> 4102\u001b[0m indexer \u001b[38;5;241m=\u001b[39m \u001b[38;5;28;43mself\u001b[39;49m\u001b[38;5;241;43m.\u001b[39;49m\u001b[43mcolumns\u001b[49m\u001b[38;5;241;43m.\u001b[39;49m\u001b[43mget_loc\u001b[49m\u001b[43m(\u001b[49m\u001b[43mkey\u001b[49m\u001b[43m)\u001b[49m\n\u001b[0;32m   4103\u001b[0m \u001b[38;5;28;01mif\u001b[39;00m is_integer(indexer):\n\u001b[0;32m   4104\u001b[0m     indexer \u001b[38;5;241m=\u001b[39m [indexer]\n",
      "File \u001b[1;32m~\\AppData\\Local\\Packages\\PythonSoftwareFoundation.Python.3.11_qbz5n2kfra8p0\\LocalCache\\local-packages\\Python311\\site-packages\\pandas\\core\\indexes\\base.py:3812\u001b[0m, in \u001b[0;36mIndex.get_loc\u001b[1;34m(self, key)\u001b[0m\n\u001b[0;32m   3807\u001b[0m     \u001b[38;5;28;01mif\u001b[39;00m \u001b[38;5;28misinstance\u001b[39m(casted_key, \u001b[38;5;28mslice\u001b[39m) \u001b[38;5;129;01mor\u001b[39;00m (\n\u001b[0;32m   3808\u001b[0m         \u001b[38;5;28misinstance\u001b[39m(casted_key, abc\u001b[38;5;241m.\u001b[39mIterable)\n\u001b[0;32m   3809\u001b[0m         \u001b[38;5;129;01mand\u001b[39;00m \u001b[38;5;28many\u001b[39m(\u001b[38;5;28misinstance\u001b[39m(x, \u001b[38;5;28mslice\u001b[39m) \u001b[38;5;28;01mfor\u001b[39;00m x \u001b[38;5;129;01min\u001b[39;00m casted_key)\n\u001b[0;32m   3810\u001b[0m     ):\n\u001b[0;32m   3811\u001b[0m         \u001b[38;5;28;01mraise\u001b[39;00m InvalidIndexError(key)\n\u001b[1;32m-> 3812\u001b[0m     \u001b[38;5;28;01mraise\u001b[39;00m \u001b[38;5;167;01mKeyError\u001b[39;00m(key) \u001b[38;5;28;01mfrom\u001b[39;00m \u001b[38;5;21;01merr\u001b[39;00m\n\u001b[0;32m   3813\u001b[0m \u001b[38;5;28;01mexcept\u001b[39;00m \u001b[38;5;167;01mTypeError\u001b[39;00m:\n\u001b[0;32m   3814\u001b[0m     \u001b[38;5;66;03m# If we have a listlike key, _check_indexing_error will raise\u001b[39;00m\n\u001b[0;32m   3815\u001b[0m     \u001b[38;5;66;03m#  InvalidIndexError. Otherwise we fall through and re-raise\u001b[39;00m\n\u001b[0;32m   3816\u001b[0m     \u001b[38;5;66;03m#  the TypeError.\u001b[39;00m\n\u001b[0;32m   3817\u001b[0m     \u001b[38;5;28mself\u001b[39m\u001b[38;5;241m.\u001b[39m_check_indexing_error(key)\n",
      "\u001b[1;31mKeyError\u001b[0m: 20.0"
     ]
    }
   ],
   "source": [
    "# inputs in time from input_data_set\n",
    "u = dm4bem.inputs_in_time(us, input_data_set)\n"
   ]
  }
 ],
 "metadata": {
  "kernelspec": {
   "display_name": "base",
   "language": "python",
   "name": "python3"
  },
  "language_info": {
   "codemirror_mode": {
    "name": "ipython",
    "version": 3
   },
   "file_extension": ".py",
   "mimetype": "text/x-python",
   "name": "python",
   "nbconvert_exporter": "python",
   "pygments_lexer": "ipython3",
   "version": "3.11.9"
  },
  "orig_nbformat": 4
 },
 "nbformat": 4,
 "nbformat_minor": 2
}
